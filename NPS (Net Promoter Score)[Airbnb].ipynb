{
 "cells": [
  {
   "cell_type": "code",
   "execution_count": null,
   "id": "18e82306-8366-4679-a341-8c85918c5368",
   "metadata": {},
   "outputs": [],
   "source": [
    "!pip install --upgrade gdown\n",
    "\n",
    "!gdown 1c0ClC8SrPwJq5rrkyMKyPn80nyHcFikK\n",
    "\n",
    "import numpy as np\n",
    "score = np.loadtxt('survey.txt', dtype ='int')\n",
    "\n",
    "type(score)\n",
    "\n",
    "score[:10]\n",
    "\n",
    "score.ndim\n",
    "\n",
    "score.shape\n",
    "\n",
    "detractors=score[score<=6]\n",
    "detractors\n",
    "\n",
    "promoters=score[score>=9]\n",
    "promoters\n",
    "\n",
    "detractors_count = len(detractors)\n",
    "promoters_count = len(promoters)\n",
    "print(detractors_count)\n",
    "print(promoters_count)\n",
    "\n",
    "total_count = len(score)\n",
    "total_count\n",
    "\n",
    "Net_Promoters_Score = 100*((promoters_count/total_count)-(detractors_count/total_count))\n",
    "Net_Promoters_Score\n",
    "\n",
    "print(\"NPS = \",round(Net_Promoters_Score,2))\n",
    "\n",
    "\n",
    "\n"
   ]
  }
 ],
 "metadata": {
  "kernelspec": {
   "display_name": "Python 3 (ipykernel)",
   "language": "python",
   "name": "python3"
  },
  "language_info": {
   "codemirror_mode": {
    "name": "ipython",
    "version": 3
   },
   "file_extension": ".py",
   "mimetype": "text/x-python",
   "name": "python",
   "nbconvert_exporter": "python",
   "pygments_lexer": "ipython3",
   "version": "3.11.7"
  }
 },
 "nbformat": 4,
 "nbformat_minor": 5
}
